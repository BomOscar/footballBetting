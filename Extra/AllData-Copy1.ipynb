{
 "cells": [
  {
   "cell_type": "code",
   "execution_count": 99,
   "metadata": {},
   "outputs": [],
   "source": [
    "import pandas as pd\n",
    "import json as js\n",
    "from datetime import datetime "
   ]
  },
  {
   "cell_type": "code",
   "execution_count": 100,
   "metadata": {},
   "outputs": [
    {
     "data": {
      "text/plain": [
       "dict"
      ]
     },
     "execution_count": 100,
     "metadata": {},
     "output_type": "execute_result"
    }
   ],
   "source": [
    "with open(\"fotmobSeason2010_2011.json\") as fm:\n",
    "    data = js.load(fm)\n",
    "type(data)\n",
    "    "
   ]
  },
  {
   "cell_type": "code",
   "execution_count": 101,
   "metadata": {},
   "outputs": [
    {
     "data": {
      "text/plain": [
       "dict_keys(['tabs', 'allAvailableSeasons', 'details', 'seostr', 'QAData', 'table', 'transfers', 'news', 'overview', 'stats', 'matches', 'playoff'])"
      ]
     },
     "execution_count": 101,
     "metadata": {},
     "output_type": "execute_result"
    }
   ],
   "source": [
    "data.keys()"
   ]
  },
  {
   "cell_type": "code",
   "execution_count": null,
   "metadata": {},
   "outputs": [],
   "source": []
  },
  {
   "cell_type": "code",
   "execution_count": 305,
   "metadata": {
    "scrolled": true
   },
   "outputs": [
    {
     "name": "stdout",
     "output_type": "stream",
     "text": [
      "                                                 KEy  \\\n",
      "0  {'8455': [{'result': 1, 'resultString': 'W', '...   \n",
      "1  {'8455': [{'result': 1, 'resultString': 'W', '...   \n",
      "\n",
      "                                                8455  \\\n",
      "0  [{'result': 1, 'resultString': 'W', 'imageUrl'...   \n",
      "1  [{'result': 1, 'resultString': 'W', 'imageUrl'...   \n",
      "\n",
      "                                                8456  \\\n",
      "0  [{'result': 1, 'resultString': 'W', 'imageUrl'...   \n",
      "1  [{'result': 1, 'resultString': 'W', 'imageUrl'...   \n",
      "\n",
      "                                                8472  \\\n",
      "0  [{'result': 1, 'resultString': 'W', 'imageUrl'...   \n",
      "1  [{'result': 1, 'resultString': 'W', 'imageUrl'...   \n",
      "\n",
      "                                                8483  \\\n",
      "0  [{'result': 0, 'resultString': 'D', 'imageUrl'...   \n",
      "1  [{'result': 0, 'resultString': 'D', 'imageUrl'...   \n",
      "\n",
      "                                                8528  \\\n",
      "0  [{'result': -1, 'resultString': 'L', 'imageUrl...   \n",
      "1  [{'result': -1, 'resultString': 'L', 'imageUrl...   \n",
      "\n",
      "                                                8559  \\\n",
      "0  [{'result': -1, 'resultString': 'L', 'imageUrl...   \n",
      "1  [{'result': -1, 'resultString': 'L', 'imageUrl...   \n",
      "\n",
      "                                                8586  \\\n",
      "0  [{'result': -1, 'resultString': 'L', 'imageUrl...   \n",
      "1  [{'result': -1, 'resultString': 'L', 'imageUrl...   \n",
      "\n",
      "                                                8602  \\\n",
      "0  [{'result': -1, 'resultString': 'L', 'imageUrl...   \n",
      "1  [{'result': -1, 'resultString': 'L', 'imageUrl...   \n",
      "\n",
      "                                                8650  ...  \\\n",
      "0  [{'result': 1, 'resultString': 'W', 'imageUrl'...  ...   \n",
      "1  [{'result': 1, 'resultString': 'W', 'imageUrl'...  ...   \n",
      "\n",
      "                                                8655  \\\n",
      "0  [{'result': -1, 'resultString': 'L', 'imageUrl...   \n",
      "1  [{'result': -1, 'resultString': 'L', 'imageUrl...   \n",
      "\n",
      "                                                8658  \\\n",
      "0  [{'result': -1, 'resultString': 'L', 'imageUrl...   \n",
      "1  [{'result': -1, 'resultString': 'L', 'imageUrl...   \n",
      "\n",
      "                                                8659  \\\n",
      "0  [{'result': 0, 'resultString': 'D', 'imageUrl'...   \n",
      "1  [{'result': 0, 'resultString': 'D', 'imageUrl'...   \n",
      "\n",
      "                                                8668  \\\n",
      "0  [{'result': -1, 'resultString': 'L', 'imageUrl...   \n",
      "1  [{'result': -1, 'resultString': 'L', 'imageUrl...   \n",
      "\n",
      "                                                9825  \\\n",
      "0  [{'result': -1, 'resultString': 'L', 'imageUrl...   \n",
      "1  [{'result': -1, 'resultString': 'L', 'imageUrl...   \n",
      "\n",
      "                                                9879  \\\n",
      "0  [{'result': 1, 'resultString': 'W', 'imageUrl'...   \n",
      "1  [{'result': 1, 'resultString': 'W', 'imageUrl'...   \n",
      "\n",
      "                                               10194  \\\n",
      "0  [{'result': 1, 'resultString': 'W', 'imageUrl'...   \n",
      "1  [{'result': 1, 'resultString': 'W', 'imageUrl'...   \n",
      "\n",
      "                                               10252  \\\n",
      "0  [{'result': 0, 'resultString': 'D', 'imageUrl'...   \n",
      "1  [{'result': 0, 'resultString': 'D', 'imageUrl'...   \n",
      "\n",
      "                                               10260  \\\n",
      "0  [{'result': 1, 'resultString': 'W', 'imageUrl'...   \n",
      "1  [{'result': 1, 'resultString': 'W', 'imageUrl'...   \n",
      "\n",
      "                                               10261  \n",
      "0  [{'result': 0, 'resultString': 'D', 'imageUrl'...  \n",
      "1  [{'result': 0, 'resultString': 'D', 'imageUrl'...  \n",
      "\n",
      "[2 rows x 21 columns]\n"
     ]
    }
   ],
   "source": [
    "\n",
    "rr = []\n",
    "for i in data['matches'].keys():\n",
    "    inf = data['matches'][i]\n",
    "    dataa = data['overview']['table']\n",
    "    for i in dataa:\n",
    "        for k in i.keys():\n",
    "            ke = i['teamForm']\n",
    "        rr.append({\n",
    "            'KEy': ke,\n",
    "        })\n",
    "        for i in ke.keys():\n",
    "            inf = ke[i]\n",
    "            rr[-1][i] = inf\n",
    "\n",
    "df = pd.DataFrame(rr)\n",
    "print(df)\n"
   ]
  },
  {
   "cell_type": "code",
   "execution_count": 306,
   "metadata": {
    "scrolled": true
   },
   "outputs": [],
   "source": [
    "pd.DataFrame(rr)\n",
    "pd.DataFrame(rr).to_csv(\"hh.csv\")"
   ]
  },
  {
   "cell_type": "code",
   "execution_count": null,
   "metadata": {},
   "outputs": [],
   "source": []
  },
  {
   "cell_type": "code",
   "execution_count": 281,
   "metadata": {},
   "outputs": [],
   "source": [
    "rrr = []\n",
    "for i in rr:\n",
    "    rrr.append(i.splitlines())"
   ]
  },
  {
   "cell_type": "code",
   "execution_count": 282,
   "metadata": {},
   "outputs": [],
   "source": [
    "ew  = pd.DataFrame(rrr)"
   ]
  },
  {
   "cell_type": "code",
   "execution_count": 283,
   "metadata": {
    "scrolled": true
   },
   "outputs": [
    {
     "data": {
      "text/html": [
       "<div>\n",
       "<style scoped>\n",
       "    .dataframe tbody tr th:only-of-type {\n",
       "        vertical-align: middle;\n",
       "    }\n",
       "\n",
       "    .dataframe tbody tr th {\n",
       "        vertical-align: top;\n",
       "    }\n",
       "\n",
       "    .dataframe thead th {\n",
       "        text-align: right;\n",
       "    }\n",
       "</style>\n",
       "<table border=\"1\" class=\"dataframe\">\n",
       "  <thead>\n",
       "    <tr style=\"text-align: right;\">\n",
       "      <th></th>\n",
       "      <th>0</th>\n",
       "    </tr>\n",
       "  </thead>\n",
       "  <tbody>\n",
       "    <tr>\n",
       "      <th>0</th>\n",
       "      <td>839804</td>\n",
       "    </tr>\n",
       "    <tr>\n",
       "      <th>1</th>\n",
       "      <td>Tottenham Hotspur</td>\n",
       "    </tr>\n",
       "    <tr>\n",
       "      <th>2</th>\n",
       "      <td>Tottenham</td>\n",
       "    </tr>\n",
       "    <tr>\n",
       "      <th>3</th>\n",
       "      <td>8586</td>\n",
       "    </tr>\n",
       "    <tr>\n",
       "      <th>4</th>\n",
       "      <td>839796</td>\n",
       "    </tr>\n",
       "    <tr>\n",
       "      <th>...</th>\n",
       "      <td>...</td>\n",
       "    </tr>\n",
       "    <tr>\n",
       "      <th>3035</th>\n",
       "      <td>8654</td>\n",
       "    </tr>\n",
       "    <tr>\n",
       "      <th>3036</th>\n",
       "      <td>840231</td>\n",
       "    </tr>\n",
       "    <tr>\n",
       "      <th>3037</th>\n",
       "      <td>Wolverhampton Wanderers</td>\n",
       "    </tr>\n",
       "    <tr>\n",
       "      <th>3038</th>\n",
       "      <td>Wolves</td>\n",
       "    </tr>\n",
       "    <tr>\n",
       "      <th>3039</th>\n",
       "      <td>8602</td>\n",
       "    </tr>\n",
       "  </tbody>\n",
       "</table>\n",
       "<p>3040 rows × 1 columns</p>\n",
       "</div>"
      ],
      "text/plain": [
       "                            0\n",
       "0                      839804\n",
       "1           Tottenham Hotspur\n",
       "2                   Tottenham\n",
       "3                        8586\n",
       "4                      839796\n",
       "...                       ...\n",
       "3035                     8654\n",
       "3036                   840231\n",
       "3037  Wolverhampton Wanderers\n",
       "3038                   Wolves\n",
       "3039                     8602\n",
       "\n",
       "[3040 rows x 1 columns]"
      ]
     },
     "execution_count": 283,
     "metadata": {},
     "output_type": "execute_result"
    }
   ],
   "source": [
    "ew"
   ]
  },
  {
   "cell_type": "code",
   "execution_count": 284,
   "metadata": {},
   "outputs": [],
   "source": [
    "dr =  pd.DataFrame(ew)"
   ]
  },
  {
   "cell_type": "code",
   "execution_count": 285,
   "metadata": {},
   "outputs": [],
   "source": [
    "dr.to_csv(\"allKez.csv\")"
   ]
  },
  {
   "cell_type": "code",
   "execution_count": null,
   "metadata": {},
   "outputs": [],
   "source": []
  },
  {
   "cell_type": "code",
   "execution_count": 287,
   "metadata": {},
   "outputs": [
    {
     "name": "stdout",
     "output_type": "stream",
     "text": [
      "        id                                            pageUrl  \\\n",
      "0     8586  /match/839804/matchfacts/tottenham-hotspur-vs-...   \n",
      "1    10252  /match/839796/matchfacts/aston-villa-vs-west-h...   \n",
      "2     8655  /match/839797/matchfacts/blackburn-rovers-vs-e...   \n",
      "3     8559  /match/839799/matchfacts/bolton-wanderers-vs-f...   \n",
      "4     8472  /match/839803/matchfacts/sunderland-vs-birming...   \n",
      "..     ...                                                ...   \n",
      "755  10261  /match/840230/matchfacts/newcastle-united-vs-w...   \n",
      "756  10194  /match/840234/matchfacts/stoke-city-vs-wigan-a...   \n",
      "757   8586  /match/840226/matchfacts/tottenham-hotspur-vs-...   \n",
      "758   8654  /match/840227/matchfacts/west-ham-united-vs-su...   \n",
      "759   8602  /match/840231/matchfacts/wolverhampton-wandere...   \n",
      "\n",
      "                        name    shortName  \n",
      "0          Tottenham Hotspur    Tottenham  \n",
      "1                Aston Villa  Aston Villa  \n",
      "2           Blackburn Rovers    Blackburn  \n",
      "3           Bolton Wanderers       Bolton  \n",
      "4                 Sunderland   Sunderland  \n",
      "..                       ...          ...  \n",
      "755         Newcastle United    Newcastle  \n",
      "756               Stoke City        Stoke  \n",
      "757        Tottenham Hotspur    Tottenham  \n",
      "758          West Ham United     West Ham  \n",
      "759  Wolverhampton Wanderers       Wolves  \n",
      "\n",
      "[760 rows x 4 columns]\n"
     ]
    }
   ],
   "source": []
  },
  {
   "cell_type": "code",
   "execution_count": 288,
   "metadata": {},
   "outputs": [],
   "source": [
    "df.to_csv(\"gpt.csv\")"
   ]
  },
  {
   "cell_type": "code",
   "execution_count": null,
   "metadata": {},
   "outputs": [],
   "source": []
  }
 ],
 "metadata": {
  "kernelspec": {
   "display_name": "Python 3",
   "language": "python",
   "name": "python3"
  },
  "language_info": {
   "codemirror_mode": {
    "name": "ipython",
    "version": 3
   },
   "file_extension": ".py",
   "mimetype": "text/x-python",
   "name": "python",
   "nbconvert_exporter": "python",
   "pygments_lexer": "ipython3",
   "version": "3.8.5"
  }
 },
 "nbformat": 4,
 "nbformat_minor": 4
}
